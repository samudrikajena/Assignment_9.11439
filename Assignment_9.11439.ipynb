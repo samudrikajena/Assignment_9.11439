{
 "cells": [
  {
   "cell_type": "markdown",
   "metadata": {},
   "source": [
    "# Task 1:"
   ]
  },
  {
   "cell_type": "code",
   "execution_count": 1,
   "metadata": {
    "colab": {
     "autoexec": {
      "startup": false,
      "wait_interval": 0
     }
    },
    "colab_type": "code",
    "id": "styC-q9BdoXz"
   },
   "outputs": [],
   "source": [
    "import numpy as np #importing numpy package"
   ]
  },
  {
   "cell_type": "markdown",
   "metadata": {
    "colab_type": "text",
    "id": "PgOzYKxmdw8e"
   },
   "source": [
    "<b>Q1. You survey households in your area to find the average rent they are paying. Find the standard deviation from the following data: $1550, $1700, $900, $850, $1000, $950.</b>"
   ]
  },
  {
   "cell_type": "code",
   "execution_count": 6,
   "metadata": {
    "colab": {
     "autoexec": {
      "startup": false,
      "wait_interval": 0
     },
     "base_uri": "https://localhost:8080/",
     "height": 51
    },
    "colab_type": "code",
    "executionInfo": {
     "elapsed": 561,
     "status": "ok",
     "timestamp": 1533144688848,
     "user": {
      "displayName": "Rajaram Tripathy",
      "photoUrl": "//lh6.googleusercontent.com/-i36HQO2rFzQ/AAAAAAAAAAI/AAAAAAAAAmk/wo74Cfd039M/s50-c-k-no/photo.jpg",
      "userId": "114877031278411201428"
     },
     "user_tz": -330
    },
    "id": "v4sys1Kjd3xY",
    "outputId": "c6c35d28-3719-43bb-f491-eb3a3acf5811"
   },
   "outputs": [
    {
     "name": "stdout",
     "output_type": "stream",
     "text": [
      "Average rent paid by the households:1155.56\n",
      "The standard deviation in given dataset is +/- : 320.11\n"
     ]
    }
   ],
   "source": [
    "rent_paid=[1550,1550,1700, 900,900,850, 1000,1000,950]\n",
    "avg_rent_paid=np.mean(rent_paid)\n",
    "std_dev=np.std(rent_paid)\n",
    "\n",
    "print('Average rent paid by the households:{:0.2f}'.format(avg_rent_paid))\n",
    "print('The standard deviation in given dataset is +/- : {:0.2f}'.format(std_dev))"
   ]
  },
  {
   "cell_type": "markdown",
   "metadata": {
    "colab_type": "text",
    "id": "Hz8Cjo3IfUaH"
   },
   "source": [
    "<b>Q2:Find the variance for the following set of data representing trees in California (heights in feet): 3, 21, 98, 203, 17, 9</b>"
   ]
  },
  {
   "cell_type": "code",
   "execution_count": 12,
   "metadata": {
    "colab": {
     "autoexec": {
      "startup": false,
      "wait_interval": 0
     },
     "base_uri": "https://localhost:8080/",
     "height": 34
    },
    "colab_type": "code",
    "executionInfo": {
     "elapsed": 706,
     "status": "ok",
     "timestamp": 1533144701079,
     "user": {
      "displayName": "Rajaram Tripathy",
      "photoUrl": "//lh6.googleusercontent.com/-i36HQO2rFzQ/AAAAAAAAAAI/AAAAAAAAAmk/wo74Cfd039M/s50-c-k-no/photo.jpg",
      "userId": "114877031278411201428"
     },
     "user_tz": -330
    },
    "id": "Vut2S6Z5fXxS",
    "outputId": "0fd77d47-29f1-4df7-b02c-eaa32fedbcf7"
   },
   "outputs": [
    {
     "name": "stdout",
     "output_type": "stream",
     "text": [
      "Variance( spread of data) to the height of trees: 5183.25\n"
     ]
    }
   ],
   "source": [
    "tree_heights= [3,21,98,203,17,9] #height of trees in feet\n",
    "variance = np.var(tree_heights)\n",
    "\n",
    "print(\"Variance( spread of data) to the height of trees: {:0.2f}\".format(variance))"
   ]
  },
  {
   "cell_type": "markdown",
   "metadata": {
    "colab_type": "text",
    "id": "-6gPW3Lyflkl"
   },
   "source": [
    "<b>Q3:In a class on 100 students, 80 students passed in all subjects, 10 failed in one subject, 7 failed in two subjects and 3 failed in three subjects. Find the probability distribution of the variable for number of subjects a student from the given class has failed in.</b>"
   ]
  },
  {
   "cell_type": "code",
   "execution_count": 20,
   "metadata": {
    "colab": {
     "autoexec": {
      "startup": false,
      "wait_interval": 0
     },
     "base_uri": "https://localhost:8080/",
     "height": 85
    },
    "colab_type": "code",
    "executionInfo": {
     "elapsed": 721,
     "status": "ok",
     "timestamp": 1533144708257,
     "user": {
      "displayName": "Rajaram Tripathy",
      "photoUrl": "//lh6.googleusercontent.com/-i36HQO2rFzQ/AAAAAAAAAAI/AAAAAAAAAmk/wo74Cfd039M/s50-c-k-no/photo.jpg",
      "userId": "114877031278411201428"
     },
     "user_tz": -330
    },
    "id": "gH-ukU2mfnxy",
    "outputId": "0f7a1a9d-f535-4641-87a9-249609b1e855"
   },
   "outputs": [
    {
     "name": "stdout",
     "output_type": "stream",
     "text": [
      "Probability failed in no subjects : p(x=0)=  0.8\n",
      "Probability failed in 1 subject: p(x=1) = 0.1\n",
      "Probability failed in 2 subjects: p(x=2) = 0.07\n",
      "Probability failed in 3 subjects: p(x=3) = 0.03\n"
     ]
    }
   ],
   "source": [
    "total_students=100 #Given :total class strength  = 100 \n",
    "total_passed=80 #Given :total student passed =  80\n",
    "failed_one_sub=10 #Given : failed in one subject = 10\n",
    "failed_two_sub=7 #Given : failed in two subjects = 7\n",
    "failed_three_sub=3 #Given :failed in three subjects = 3\n",
    "\n",
    "#Probability calculation for each set of data from total data\n",
    "prob_failed_no_sub = total_passed/total_students #p(x=0)\n",
    "prob_failed_in_one_sub = failed_one_sub/total_students #p(x=1)\n",
    "prob_failed_in_two_sub = failed_two_sub/total_students #p(x=2)\n",
    "prob_failed_in_three_sub = failed_three_sub/total_students #p(x=3)\n",
    "\n",
    "print(\"Probability failed in no subjects : p(x=0)= \",prob_failed_no_sub)\n",
    "print(\"Probability failed in 1 subject: p(x=1) =\",prob_failed_in_one_sub)\n",
    "print(\"Probability failed in 2 subjects: p(x=2) =\",prob_failed_in_two_sub)\n",
    "print(\"Probability failed in 3 subjects: p(x=3) =\",prob_failed_in_three_sub)"
   ]
  },
  {
   "cell_type": "markdown",
   "metadata": {
    "colab": {
     "autoexec": {
      "startup": false,
      "wait_interval": 0
     }
    },
    "colab_type": "code",
    "id": "zvecFRwodkkH"
   },
   "source": [
    "# Task 2:"
   ]
  },
  {
   "cell_type": "markdown",
   "metadata": {},
   "source": [
    "<b>Q1. A test is conducted which is consisting of 20 MCQs (multiple choices questions) with every MCQ having its four options out of which only one is correct. Determine the probability that a person undertaking that test has answered exactly 5 questions wrong.</b>"
   ]
  },
  {
   "cell_type": "code",
   "execution_count": 30,
   "metadata": {},
   "outputs": [
    {
     "name": "stdout",
     "output_type": "stream",
     "text": [
      "The probability that a person undertaking test has answered exactly 5 questions wrong is: 0.00000343\n"
     ]
    }
   ],
   "source": [
    "import math\n",
    "\n",
    "total_que = 20 #Given: total MCQ=20\n",
    "wrong_que = 5 #Given: worng  ans. to questions= 5\n",
    "cotrrect_ans = total_que-wrong_que #correct answers\n",
    "\n",
    "total_options_MCQ = 4 #Given: MCQs has 4 options\n",
    "correct_option_MCQ = 1 #Given: MCQs has 1 correct option\n",
    "\n",
    "c=correct_option_MCQ/total_options_MCQ #Probability of getting right answer = 1/4\n",
    "w=1-c #Probability of getting wrong answer = 1- 1/4 = 3/4\n",
    "\n",
    "# Use of binomial distribution to get probability that a person undertaking the test has answered exactly 5 questions wrong\n",
    "# substituted value to binomail distribution\n",
    "# P (exactly 5 out of 20 answers incorrect) = C (20, 5) * (1/4)**15 * (3/4)** 5\n",
    "\n",
    "probability_five_worng_ans= (math.factorial(total_que)/(math.factorial(cotrrect_ans)*math.factorial(wrong_que)))*(c**15)*(w**5)\n",
    "print('The probability that a person undertaking test has answered exactly 5 questions wrong is: %.8f' % (probability_five_worng_ans))"
   ]
  },
  {
   "cell_type": "markdown",
   "metadata": {},
   "source": [
    "<b>Q2. A die marked A to E is rolled 50 times. Find the probability of getting a “D” exactly 5 times.</b>"
   ]
  },
  {
   "cell_type": "code",
   "execution_count": 35,
   "metadata": {},
   "outputs": [
    {
     "name": "stdout",
     "output_type": "stream",
     "text": [
      "The probability of getting a D exactly 5 times: 0.0295\n"
     ]
    }
   ],
   "source": [
    "total_trials = 50 # Given: Total trials attempted :  A die rolled 50 times\n",
    "success = 5 #Given : number of successful attempts: 'D' exactly 5 times\n",
    "failure = total_trials-success #number of failed attempts = 45\n",
    "\n",
    "total_die_faces= 5 #Given: A die marked A to E\n",
    "D_face = 1 #Given: die has one 'D' face\n",
    "\n",
    "s = D_face/total_die_faces #Probability of getting 'D' = 1/5\n",
    "f = 1-s #Probability of not getting 'D' face: 1-1/5= 4/5\n",
    "\n",
    "# Use of binomial distribution to get probability of getting 'D' exactly 5 times\n",
    "# substituted value to binomail distribution\n",
    "# P (exactly 5 'D's out of 50 trials) = C (50, 5) * (1/5)**5 * (4/5)** 45\n",
    "\n",
    "#Probability of getting a “D” exactly 5 times \n",
    "#using math librabry which has made available in previous question\n",
    "probability_five_D = (math.factorial(total_trials)/(math.factorial(success)* math.factorial(failure)))*(s**5)*(f**45)\n",
    "print(\"The probability of getting a D exactly 5 times: %.4f\" % (probability_five_D))"
   ]
  },
  {
   "cell_type": "markdown",
   "metadata": {},
   "source": [
    "<b>Q3. Two balls are drawn at random in succession without replacement from an urn containing 4 red balls and 6 black balls. Find the probabilities of all the possible outcomes.</b>\n"
   ]
  },
  {
   "cell_type": "code",
   "execution_count": 42,
   "metadata": {},
   "outputs": [
    {
     "name": "stdout",
     "output_type": "stream",
     "text": [
      "Probability of 2 balls are drawn at random in succession without replacement and both are red balls: 0.1333\n",
      "Probability of 2 balls are drawn at random in succession without replacement and both are black balls: 0.3333\n",
      "Probability of 2 balls are drawn at random in succession without replacement and one is black ball and other is red ball: 0.5333\n"
     ]
    }
   ],
   "source": [
    "total_balls=10 #Given: total number of balls=4 red balls + 6 black balls\n",
    "event=2  #Given: Two balls are drawn\n",
    "\n",
    "#Defining the function with returns the combination\n",
    "def combination(p,q):\n",
    "    return math.factorial(p)/(math.factorial(q)*math.factorial(p-q))\n",
    "\n",
    "#All possible outcomes: RR, BB, RB or BR\n",
    "\n",
    "#Probability of two balls drawn at random in succession without replacement and both are red balls P(RR)=C(4,2)*C(6,0)/C(10,2)\n",
    "prob_RR = combination(4,2)*combination(6,0)/combination(10,2)\n",
    "print(\"Probability of 2 balls are drawn at random in succession without replacement and both are red balls: %.4f\" %(prob_RR))\n",
    "\n",
    "#Probability of two balls drawn at random in succession without replacement and both are black balls P(BB)=C(6,2)*C(4,0)/C(10,2)\n",
    "prob_BB = combination(6,2)*combination(4,0)/combination(10,2) \n",
    "print(\"Probability of 2 balls are drawn at random in succession without replacement and both are black balls: %.4f\" % (prob_BB))\n",
    "\n",
    "#Probability of two balls drawn at random in succession without replacement and one is black ball and other is red ball P(BR)=C(6,1)*C(4,1)/C(10,2)\n",
    "prob_BR = combination(6,1)*combination(4,1)/combination(10,2) \n",
    "print(\"Probability of 2 balls are drawn at random in succession without replacement and one is black ball and other is red ball: %.4f\" %(prob_BR))"
   ]
  },
  {
   "cell_type": "code",
   "execution_count": null,
   "metadata": {},
   "outputs": [],
   "source": []
  }
 ],
 "metadata": {
  "colab": {
   "default_view": {},
   "name": "Assignment9.1_Task1.ipynb",
   "provenance": [],
   "version": "0.3.2",
   "views": {}
  },
  "kernelspec": {
   "display_name": "Python 3",
   "language": "python",
   "name": "python3"
  },
  "language_info": {
   "codemirror_mode": {
    "name": "ipython",
    "version": 3
   },
   "file_extension": ".py",
   "mimetype": "text/x-python",
   "name": "python",
   "nbconvert_exporter": "python",
   "pygments_lexer": "ipython3",
   "version": "3.6.4"
  }
 },
 "nbformat": 4,
 "nbformat_minor": 1
}
